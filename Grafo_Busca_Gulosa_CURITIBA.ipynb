{
  "nbformat": 4,
  "nbformat_minor": 0,
  "metadata": {
    "colab": {
      "provenance": []
    },
    "kernelspec": {
      "name": "python3",
      "display_name": "Python 3"
    }
  },
  "cells": [
    {
      "cell_type": "markdown",
      "metadata": {
        "id": "r2ZZwVzmSD9w"
      },
      "source": [
        "# Grafo - Busca gulosa"
      ]
    },
    {
      "cell_type": "markdown",
      "metadata": {
        "id": "PgOWgXWsNWEr"
      },
      "source": [
        "## Grafo"
      ]
    },
    {
      "cell_type": "code",
      "metadata": {
        "id": "37JdH3P_R-pL"
      },
      "source": [
        "class Vertice:\n",
        "\n",
        "  def __init__(self, rotulo, distancia_objetivo):\n",
        "    self.rotulo = rotulo\n",
        "    self.visitado = False\n",
        "    self.distancia_objetivo = distancia_objetivo\n",
        "    self.adjacentes = []\n",
        "\n",
        "  def adiciona_adjacente(self, adjacente):\n",
        "    self.adjacentes.append(adjacente)\n",
        "\n",
        "  def mostra_adjacentes(self):\n",
        "    for i in self.adjacentes:\n",
        "      print(i.vertice.rotulo, i.custo)"
      ],
      "execution_count": 1,
      "outputs": []
    },
    {
      "cell_type": "code",
      "metadata": {
        "id": "Hj4-etBV6eYP"
      },
      "source": [
        "class Adjacente:\n",
        "  def __init__(self, vertice, custo):\n",
        "    self.vertice = vertice\n",
        "    self.custo = custo"
      ],
      "execution_count": 2,
      "outputs": []
    },
    {
      "cell_type": "code",
      "metadata": {
        "id": "42axhC-b6r-L"
      },
      "source": [
        "class Grafo:\n",
        "  porto_uniao = Vertice('Porto União', 203)\n",
        "  paulo_frontin = Vertice('Paulo Frontin', 172)\n",
        "  canoinhas = Vertice('Canoinhas', 141)\n",
        "  tres_barras = Vertice('Três Barras', 131)\n",
        "  sao_mateus_do_sul = Vertice('São Mateus do Sul', 123)\n",
        "  irati = Vertice('Irati', 139)\n",
        "  palmeira = Vertice('Palmeira', 59)\n",
        "  mafra = Vertice('Mafra', 94)\n",
        "  campo_largo = Vertice('Campo Largo', 27)\n",
        "  balsa_nova = Vertice('Balsa Nova', 41)\n",
        "  lapa = Vertice('Lapa', 74)\n",
        "  tijucas_do_sul = Vertice('Tijucas do Sul', 56)\n",
        "  araucaria = Vertice('Araucaria', 23)\n",
        "  sao_jose_dos_pinhais = Vertice('São José dos Pinhais', 13)\n",
        "  contenda = Vertice('Contenda', 39)\n",
        "  curitiba = Vertice('Curitiba', 0)\n",
        "\n",
        "  porto_uniao.adiciona_adjacente(Adjacente(paulo_frontin, 46))\n",
        "  porto_uniao.adiciona_adjacente(Adjacente(sao_mateus_do_sul, 87))\n",
        "  porto_uniao.adiciona_adjacente(Adjacente(canoinhas, 78))\n",
        "\n",
        "  paulo_frontin.adiciona_adjacente(Adjacente(irati, 75))\n",
        "  paulo_frontin.adiciona_adjacente(Adjacente(porto_uniao, 46))\n",
        "\n",
        "  canoinhas.adiciona_adjacente(Adjacente(porto_uniao, 78))\n",
        "  canoinhas.adiciona_adjacente(Adjacente(tres_barras, 12))\n",
        "  canoinhas.adiciona_adjacente(Adjacente(mafra, 66))\n",
        "\n",
        "  tres_barras.adiciona_adjacente(Adjacente(sao_mateus_do_sul, 43))\n",
        "  tres_barras.adiciona_adjacente(Adjacente(canoinhas, 12))\n",
        "\n",
        "  sao_mateus_do_sul.adiciona_adjacente(Adjacente(tres_barras, 43))\n",
        "  sao_mateus_do_sul.adiciona_adjacente(Adjacente(porto_uniao, 87))\n",
        "  sao_mateus_do_sul.adiciona_adjacente(Adjacente(irati, 57))\n",
        "  sao_mateus_do_sul.adiciona_adjacente(Adjacente(palmeira, 77))\n",
        "  sao_mateus_do_sul.adiciona_adjacente(Adjacente(lapa, 60))\n",
        "\n",
        "\n",
        "  irati.adiciona_adjacente(Adjacente(paulo_frontin, 75))\n",
        "  irati.adiciona_adjacente(Adjacente(sao_mateus_do_sul, 57))\n",
        "  irati.adiciona_adjacente(Adjacente(palmeira, 75))\n",
        "\n",
        "  palmeira.adiciona_adjacente(Adjacente(irati, 75))\n",
        "  palmeira.adiciona_adjacente(Adjacente(sao_mateus_do_sul, 77))\n",
        "  palmeira.adiciona_adjacente(Adjacente(campo_largo, 55))\n",
        "\n",
        "  mafra.adiciona_adjacente(Adjacente(canoinhas, 66))\n",
        "  mafra.adiciona_adjacente(Adjacente(lapa, 57))\n",
        "  mafra.adiciona_adjacente(Adjacente(tijucas_do_sul, 99))\n",
        "\n",
        "  campo_largo.adiciona_adjacente(Adjacente(palmeira, 55))\n",
        "  campo_largo.adiciona_adjacente(Adjacente(balsa_nova, 22))\n",
        "  campo_largo.adiciona_adjacente(Adjacente(curitiba, 29))\n",
        "\n",
        "  balsa_nova.adiciona_adjacente(Adjacente(campo_largo, 22))\n",
        "  balsa_nova.adiciona_adjacente(Adjacente(contenda, 19))\n",
        "  balsa_nova.adiciona_adjacente(Adjacente(curitiba, 51))\n",
        "\n",
        "  lapa.adiciona_adjacente(Adjacente(sao_mateus_do_sul, 60))\n",
        "  lapa.adiciona_adjacente(Adjacente(mafra, 57))\n",
        "  lapa.adiciona_adjacente(Adjacente(contenda, 26))\n",
        "\n",
        "  tijucas_do_sul.adiciona_adjacente(Adjacente(mafra, 99))\n",
        "  tijucas_do_sul.adiciona_adjacente(Adjacente(sao_jose_dos_pinhais, 49))\n",
        "\n",
        "  araucaria.adiciona_adjacente(Adjacente(contenda, 18))\n",
        "  araucaria.adiciona_adjacente(Adjacente(curitiba, 37))\n",
        "\n",
        "  sao_jose_dos_pinhais.adiciona_adjacente(Adjacente(curitiba, 15))\n",
        "  sao_jose_dos_pinhais.adiciona_adjacente(Adjacente(tijucas_do_sul, 49))\n",
        "\n",
        "  contenda.adiciona_adjacente(Adjacente(lapa, 26))\n",
        "  contenda.adiciona_adjacente(Adjacente(balsa_nova, 19))\n",
        "  contenda.adiciona_adjacente(Adjacente(araucaria, 18))\n",
        "\n",
        "  curitiba.adiciona_adjacente(Adjacente(campo_largo, 29))\n",
        "  curitiba.adiciona_adjacente(Adjacente(balsa_nova, 51))\n",
        "  curitiba.adiciona_adjacente(Adjacente(araucaria, 37))\n",
        "  curitiba.adiciona_adjacente(Adjacente(sao_jose_dos_pinhais, 15))\n",
        ""
      ],
      "execution_count": 4,
      "outputs": []
    },
    {
      "cell_type": "code",
      "metadata": {
        "id": "qBYjaInI-N4c"
      },
      "source": [
        "grafo = Grafo()"
      ],
      "execution_count": 5,
      "outputs": []
    },
    {
      "cell_type": "markdown",
      "metadata": {
        "id": "aIjre2EzLXB0"
      },
      "source": [
        "## Vetor ordenado"
      ]
    },
    {
      "cell_type": "code",
      "metadata": {
        "id": "nEqjfib1pmTw"
      },
      "source": [],
      "execution_count": 5,
      "outputs": []
    },
    {
      "cell_type": "code",
      "metadata": {
        "id": "bHnGlmCQLYoH"
      },
      "source": [
        "import numpy as np\n",
        "class VetorOrdenado:\n",
        "\n",
        "  def __init__(self, capacidade):\n",
        "    self.capacidade = capacidade\n",
        "    self.ultima_posicao = -1\n",
        "    # Mudança no tipo de dados\n",
        "    self.valores = np.empty(self.capacidade, dtype=object)\n",
        "\n",
        "  # Referência para o vértice e comparação com a distância para o objetivo\n",
        "  def insere(self, vertice):\n",
        "    if self.ultima_posicao == self.capacidade - 1:\n",
        "      print('Capacidade máxima atingida')\n",
        "      return\n",
        "    posicao = 0\n",
        "    for i in range(self.ultima_posicao + 1):\n",
        "      posicao = i\n",
        "      if self.valores[i].distancia_objetivo > vertice.distancia_objetivo:\n",
        "        break\n",
        "      if i == self.ultima_posicao:\n",
        "        posicao = i + 1\n",
        "    x = self.ultima_posicao\n",
        "    while x >= posicao:\n",
        "      self.valores[x + 1] = self.valores[x]\n",
        "      x -= 1\n",
        "    self.valores[posicao] = vertice\n",
        "    self.ultima_posicao += 1\n",
        "\n",
        "  def imprime(self):\n",
        "    if self.ultima_posicao == -1:\n",
        "      print('O vetor está vazio')\n",
        "    else:\n",
        "      for i in range(self.ultima_posicao + 1):\n",
        "        print(i, ' - ', self.valores[i].rotulo, ' - ', self.valores[i].distancia_objetivo)"
      ],
      "execution_count": 6,
      "outputs": []
    },
    {
      "cell_type": "code",
      "metadata": {
        "id": "62HkTyWlhU42"
      },
      "source": [
        "vetor = VetorOrdenado(10)\n",
        "vetor.insere(grafo.lapa)\n",
        "vetor.insere(grafo.mafra)\n",
        "vetor.insere(grafo.porto_uniao)\n",
        "vetor.insere(grafo.campo_largo)\n",
        "vetor.insere(grafo.curitiba)\n",
        "vetor.insere(grafo.balsa_nova)"
      ],
      "execution_count": 7,
      "outputs": []
    },
    {
      "cell_type": "code",
      "metadata": {
        "id": "NmIa--Shhi6D",
        "colab": {
          "base_uri": "https://localhost:8080/"
        },
        "outputId": "41314b67-895d-41f1-a751-bd65bb54582b"
      },
      "source": [
        "vetor.imprime()"
      ],
      "execution_count": 8,
      "outputs": [
        {
          "output_type": "stream",
          "name": "stdout",
          "text": [
            "0  -  Curitiba  -  0\n",
            "1  -  Campo Largo  -  27\n",
            "2  -  Balsa Nova  -  41\n",
            "3  -  Lapa  -  74\n",
            "4  -  Mafra  -  94\n",
            "5  -  Porto União  -  203\n"
          ]
        }
      ]
    },
    {
      "cell_type": "code",
      "metadata": {
        "id": "0Ffi3HY6hokf",
        "colab": {
          "base_uri": "https://localhost:8080/"
        },
        "outputId": "12c6d166-14fc-4e7c-9653-0f3d342a2a3d"
      },
      "source": [
        "vetor.insere(grafo.irati)\n",
        "vetor.imprime()"
      ],
      "execution_count": 9,
      "outputs": [
        {
          "output_type": "stream",
          "name": "stdout",
          "text": [
            "0  -  Curitiba  -  0\n",
            "1  -  Campo Largo  -  27\n",
            "2  -  Balsa Nova  -  41\n",
            "3  -  Lapa  -  74\n",
            "4  -  Mafra  -  94\n",
            "5  -  Irati  -  139\n",
            "6  -  Porto União  -  203\n"
          ]
        }
      ]
    },
    {
      "cell_type": "code",
      "metadata": {
        "id": "qfqtB9CNh0gB",
        "colab": {
          "base_uri": "https://localhost:8080/"
        },
        "outputId": "96f8415e-f015-4bf5-ba01-26b5def37e1a"
      },
      "source": [
        "vetor.valores[0], vetor.valores[0].rotulo"
      ],
      "execution_count": 10,
      "outputs": [
        {
          "output_type": "execute_result",
          "data": {
            "text/plain": [
              "(<__main__.Vertice at 0x7edee9abdba0>, 'Curitiba')"
            ]
          },
          "metadata": {},
          "execution_count": 10
        }
      ]
    },
    {
      "cell_type": "markdown",
      "metadata": {
        "id": "Lmvbw_KeNYvX"
      },
      "source": [
        "## Busca gulosa"
      ]
    },
    {
      "cell_type": "code",
      "metadata": {
        "id": "dZPo4FQOh_ab"
      },
      "source": [
        "class Gulosa:\n",
        "  def __init__(self, objetivo):\n",
        "    self.objetivo = objetivo\n",
        "    self.encontrado = False\n",
        "\n",
        "  def buscar(self, atual):\n",
        "    print('-------')\n",
        "    print('Atual: {}'.format(atual.rotulo))\n",
        "    atual.visitado = True\n",
        "\n",
        "    if atual == self.objetivo:\n",
        "      self.encontrado = True\n",
        "    else:\n",
        "      vetor_ordenado = VetorOrdenado(len(atual.adjacentes))\n",
        "      for adjacente in atual.adjacentes:\n",
        "        if adjacente.vertice.visitado == False:\n",
        "          adjacente.vertice.visitado == True\n",
        "          vetor_ordenado.insere(adjacente.vertice)\n",
        "      vetor_ordenado.imprime()\n",
        "\n",
        "      if vetor_ordenado.valores[0] != None:\n",
        "        self.buscar(vetor_ordenado.valores[0])\n"
      ],
      "execution_count": 11,
      "outputs": []
    },
    {
      "cell_type": "code",
      "metadata": {
        "id": "2q06aV39jXKy",
        "colab": {
          "base_uri": "https://localhost:8080/"
        },
        "outputId": "a06bc48a-2509-481c-ae98-feebd3e678e9"
      },
      "source": [
        "busca_gulosa = Gulosa(grafo.curitiba)\n",
        "busca_gulosa.buscar(grafo.porto_uniao)"
      ],
      "execution_count": 12,
      "outputs": [
        {
          "output_type": "stream",
          "name": "stdout",
          "text": [
            "-------\n",
            "Atual: Porto União\n",
            "0  -  São Mateus do Sul  -  123\n",
            "1  -  Canoinhas  -  141\n",
            "2  -  Paulo Frontin  -  172\n",
            "-------\n",
            "Atual: São Mateus do Sul\n",
            "0  -  Palmeira  -  59\n",
            "1  -  Lapa  -  74\n",
            "2  -  Três Barras  -  131\n",
            "3  -  Irati  -  139\n",
            "-------\n",
            "Atual: Palmeira\n",
            "0  -  Campo Largo  -  27\n",
            "1  -  Irati  -  139\n",
            "-------\n",
            "Atual: Campo Largo\n",
            "0  -  Curitiba  -  0\n",
            "1  -  Balsa Nova  -  41\n",
            "-------\n",
            "Atual: Curitiba\n"
          ]
        }
      ]
    }
  ]
}